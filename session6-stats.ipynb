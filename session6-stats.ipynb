{
 "cells": [
  {
   "cell_type": "markdown",
   "metadata": {},
   "source": [
    "# Doing statistics in Python"
   ]
  },
  {
   "cell_type": "markdown",
   "metadata": {},
   "source": [
    "Important note: I am by no means a statistical advisor.\n",
    "I will just show you today how to use a couple of packages to do some statistical tests.\n",
    "Basically, I provide some pointers.\n",
    "When doing analyses on your own data, make your own decisions on which tests to use.\n",
    "\n",
    "The reference guides for the packages we used in this session are here:\n",
    "* SciPy Stats: https://docs.scipy.org/doc/scipy/reference/stats.html\n",
    "* Statsmodels: https://www.statsmodels.org/stable/index.html\n",
    "* Seaborn: https://seaborn.pydata.org/index.html\n",
    "* Pandas: https://pandas.pydata.org/\n",
    "* Numpy: https://numpy.org/doc/stable/\n",
    "\n",
    "If you are stuck, consult Stackoverflow. Your question has probably been asked before."
   ]
  },
  {
   "cell_type": "markdown",
   "metadata": {},
   "source": [
    "## 0. We import the relevant modules"
   ]
  },
  {
   "cell_type": "code",
   "execution_count": 2,
   "metadata": {},
   "outputs": [],
   "source": [
    "import math\n",
    "import statistics\n",
    "import numpy as np\n",
    "import scipy.stats as stats\n",
    "import pandas as pd\n",
    "import matplotlib.pyplot as plt\n",
    "import seaborn as sns\n",
    "import os"
   ]
  },
  {
   "cell_type": "markdown",
   "metadata": {},
   "source": [
    "## 1. Load the data"
   ]
  },
  {
   "cell_type": "code",
   "execution_count": 3,
   "metadata": {},
   "outputs": [],
   "source": [
    "path = 'C:\\\\Users\\\\sopsla\\\\desktop\\\\session5'"
   ]
  },
  {
   "cell_type": "code",
   "execution_count": 4,
   "metadata": {},
   "outputs": [],
   "source": [
    "# load the data we used last week\n",
    "participants = pd.read_csv(os.path.join(path, 'participants.csv'))\n",
    "\n",
    "# use a for-loop to go through the participant list and load the data\n",
    "trials = pd.DataFrame()\n",
    "for participant_id in participants['id']:\n",
    "    trials = trials.append(pd.read_csv(os.path.join(path, f'participants\\\\{participant_id}.csv')))\n",
    "    \n",
    "# merge participant and trial data\n",
    "trials = trials.merge(participants, on='id')\n",
    "trials.rename(columns={'Unnamed: 0': 'trial_order'}, inplace=True)"
   ]
  },
  {
   "cell_type": "markdown",
   "metadata": {},
   "source": [
    "A fun thing about notebooks: you can easily preview what you're working with."
   ]
  },
  {
   "cell_type": "code",
   "execution_count": 5,
   "metadata": {},
   "outputs": [
    {
     "data": {
      "text/html": [
       "<div>\n",
       "<style scoped>\n",
       "    .dataframe tbody tr th:only-of-type {\n",
       "        vertical-align: middle;\n",
       "    }\n",
       "\n",
       "    .dataframe tbody tr th {\n",
       "        vertical-align: top;\n",
       "    }\n",
       "\n",
       "    .dataframe thead th {\n",
       "        text-align: right;\n",
       "    }\n",
       "</style>\n",
       "<table border=\"1\" class=\"dataframe\">\n",
       "  <thead>\n",
       "    <tr style=\"text-align: right;\">\n",
       "      <th></th>\n",
       "      <th>trial_order</th>\n",
       "      <th>id</th>\n",
       "      <th>condition</th>\n",
       "      <th>RT</th>\n",
       "      <th>first_name</th>\n",
       "      <th>last_name</th>\n",
       "      <th>age</th>\n",
       "      <th>sex</th>\n",
       "    </tr>\n",
       "  </thead>\n",
       "  <tbody>\n",
       "    <tr>\n",
       "      <th>0</th>\n",
       "      <td>0</td>\n",
       "      <td>83633</td>\n",
       "      <td>condition_a</td>\n",
       "      <td>711.093867</td>\n",
       "      <td>Stacy</td>\n",
       "      <td>Burton</td>\n",
       "      <td>33</td>\n",
       "      <td>male</td>\n",
       "    </tr>\n",
       "    <tr>\n",
       "      <th>1</th>\n",
       "      <td>1</td>\n",
       "      <td>83633</td>\n",
       "      <td>baseline</td>\n",
       "      <td>351.301881</td>\n",
       "      <td>Stacy</td>\n",
       "      <td>Burton</td>\n",
       "      <td>33</td>\n",
       "      <td>male</td>\n",
       "    </tr>\n",
       "    <tr>\n",
       "      <th>2</th>\n",
       "      <td>2</td>\n",
       "      <td>83633</td>\n",
       "      <td>condition_a</td>\n",
       "      <td>720.382681</td>\n",
       "      <td>Stacy</td>\n",
       "      <td>Burton</td>\n",
       "      <td>33</td>\n",
       "      <td>male</td>\n",
       "    </tr>\n",
       "    <tr>\n",
       "      <th>3</th>\n",
       "      <td>3</td>\n",
       "      <td>83633</td>\n",
       "      <td>condition_a</td>\n",
       "      <td>329.828212</td>\n",
       "      <td>Stacy</td>\n",
       "      <td>Burton</td>\n",
       "      <td>33</td>\n",
       "      <td>male</td>\n",
       "    </tr>\n",
       "    <tr>\n",
       "      <th>4</th>\n",
       "      <td>4</td>\n",
       "      <td>83633</td>\n",
       "      <td>baseline</td>\n",
       "      <td>188.586183</td>\n",
       "      <td>Stacy</td>\n",
       "      <td>Burton</td>\n",
       "      <td>33</td>\n",
       "      <td>male</td>\n",
       "    </tr>\n",
       "    <tr>\n",
       "      <th>...</th>\n",
       "      <td>...</td>\n",
       "      <td>...</td>\n",
       "      <td>...</td>\n",
       "      <td>...</td>\n",
       "      <td>...</td>\n",
       "      <td>...</td>\n",
       "      <td>...</td>\n",
       "      <td>...</td>\n",
       "    </tr>\n",
       "    <tr>\n",
       "      <th>1195</th>\n",
       "      <td>115</td>\n",
       "      <td>90709</td>\n",
       "      <td>baseline</td>\n",
       "      <td>399.521017</td>\n",
       "      <td>Natalie</td>\n",
       "      <td>Newton</td>\n",
       "      <td>23</td>\n",
       "      <td>female</td>\n",
       "    </tr>\n",
       "    <tr>\n",
       "      <th>1196</th>\n",
       "      <td>116</td>\n",
       "      <td>90709</td>\n",
       "      <td>condition_b</td>\n",
       "      <td>174.347050</td>\n",
       "      <td>Natalie</td>\n",
       "      <td>Newton</td>\n",
       "      <td>23</td>\n",
       "      <td>female</td>\n",
       "    </tr>\n",
       "    <tr>\n",
       "      <th>1197</th>\n",
       "      <td>117</td>\n",
       "      <td>90709</td>\n",
       "      <td>baseline</td>\n",
       "      <td>160.265914</td>\n",
       "      <td>Natalie</td>\n",
       "      <td>Newton</td>\n",
       "      <td>23</td>\n",
       "      <td>female</td>\n",
       "    </tr>\n",
       "    <tr>\n",
       "      <th>1198</th>\n",
       "      <td>118</td>\n",
       "      <td>90709</td>\n",
       "      <td>baseline</td>\n",
       "      <td>357.141627</td>\n",
       "      <td>Natalie</td>\n",
       "      <td>Newton</td>\n",
       "      <td>23</td>\n",
       "      <td>female</td>\n",
       "    </tr>\n",
       "    <tr>\n",
       "      <th>1199</th>\n",
       "      <td>119</td>\n",
       "      <td>90709</td>\n",
       "      <td>condition_a</td>\n",
       "      <td>500.227344</td>\n",
       "      <td>Natalie</td>\n",
       "      <td>Newton</td>\n",
       "      <td>23</td>\n",
       "      <td>female</td>\n",
       "    </tr>\n",
       "  </tbody>\n",
       "</table>\n",
       "<p>1200 rows × 8 columns</p>\n",
       "</div>"
      ],
      "text/plain": [
       "      trial_order     id    condition          RT first_name last_name  age  \\\n",
       "0               0  83633  condition_a  711.093867      Stacy    Burton   33   \n",
       "1               1  83633     baseline  351.301881      Stacy    Burton   33   \n",
       "2               2  83633  condition_a  720.382681      Stacy    Burton   33   \n",
       "3               3  83633  condition_a  329.828212      Stacy    Burton   33   \n",
       "4               4  83633     baseline  188.586183      Stacy    Burton   33   \n",
       "...           ...    ...          ...         ...        ...       ...  ...   \n",
       "1195          115  90709     baseline  399.521017    Natalie    Newton   23   \n",
       "1196          116  90709  condition_b  174.347050    Natalie    Newton   23   \n",
       "1197          117  90709     baseline  160.265914    Natalie    Newton   23   \n",
       "1198          118  90709     baseline  357.141627    Natalie    Newton   23   \n",
       "1199          119  90709  condition_a  500.227344    Natalie    Newton   23   \n",
       "\n",
       "         sex  \n",
       "0       male  \n",
       "1       male  \n",
       "2       male  \n",
       "3       male  \n",
       "4       male  \n",
       "...      ...  \n",
       "1195  female  \n",
       "1196  female  \n",
       "1197  female  \n",
       "1198  female  \n",
       "1199  female  \n",
       "\n",
       "[1200 rows x 8 columns]"
      ]
     },
     "execution_count": 5,
     "metadata": {},
     "output_type": "execute_result"
    }
   ],
   "source": [
    "trials"
   ]
  },
  {
   "cell_type": "markdown",
   "metadata": {},
   "source": [
    "### NaN-values"
   ]
  },
  {
   "cell_type": "code",
   "execution_count": 6,
   "metadata": {
    "scrolled": true
   },
   "outputs": [
    {
     "data": {
      "text/html": [
       "<div>\n",
       "<style scoped>\n",
       "    .dataframe tbody tr th:only-of-type {\n",
       "        vertical-align: middle;\n",
       "    }\n",
       "\n",
       "    .dataframe tbody tr th {\n",
       "        vertical-align: top;\n",
       "    }\n",
       "\n",
       "    .dataframe thead th {\n",
       "        text-align: right;\n",
       "    }\n",
       "</style>\n",
       "<table border=\"1\" class=\"dataframe\">\n",
       "  <thead>\n",
       "    <tr style=\"text-align: right;\">\n",
       "      <th></th>\n",
       "      <th>trial_order</th>\n",
       "      <th>id</th>\n",
       "      <th>condition</th>\n",
       "      <th>RT</th>\n",
       "      <th>first_name</th>\n",
       "      <th>last_name</th>\n",
       "      <th>age</th>\n",
       "      <th>sex</th>\n",
       "    </tr>\n",
       "  </thead>\n",
       "  <tbody>\n",
       "    <tr>\n",
       "      <th>0</th>\n",
       "      <td>0</td>\n",
       "      <td>83633</td>\n",
       "      <td>condition_a</td>\n",
       "      <td>711.093867</td>\n",
       "      <td>Stacy</td>\n",
       "      <td>Burton</td>\n",
       "      <td>33</td>\n",
       "      <td>male</td>\n",
       "    </tr>\n",
       "    <tr>\n",
       "      <th>1</th>\n",
       "      <td>1</td>\n",
       "      <td>83633</td>\n",
       "      <td>baseline</td>\n",
       "      <td>351.301881</td>\n",
       "      <td>Stacy</td>\n",
       "      <td>Burton</td>\n",
       "      <td>33</td>\n",
       "      <td>male</td>\n",
       "    </tr>\n",
       "    <tr>\n",
       "      <th>2</th>\n",
       "      <td>2</td>\n",
       "      <td>83633</td>\n",
       "      <td>condition_a</td>\n",
       "      <td>720.382681</td>\n",
       "      <td>Stacy</td>\n",
       "      <td>Burton</td>\n",
       "      <td>33</td>\n",
       "      <td>male</td>\n",
       "    </tr>\n",
       "    <tr>\n",
       "      <th>3</th>\n",
       "      <td>3</td>\n",
       "      <td>83633</td>\n",
       "      <td>condition_a</td>\n",
       "      <td>329.828212</td>\n",
       "      <td>Stacy</td>\n",
       "      <td>Burton</td>\n",
       "      <td>33</td>\n",
       "      <td>male</td>\n",
       "    </tr>\n",
       "    <tr>\n",
       "      <th>4</th>\n",
       "      <td>4</td>\n",
       "      <td>83633</td>\n",
       "      <td>baseline</td>\n",
       "      <td>188.586183</td>\n",
       "      <td>Stacy</td>\n",
       "      <td>Burton</td>\n",
       "      <td>33</td>\n",
       "      <td>male</td>\n",
       "    </tr>\n",
       "    <tr>\n",
       "      <th>...</th>\n",
       "      <td>...</td>\n",
       "      <td>...</td>\n",
       "      <td>...</td>\n",
       "      <td>...</td>\n",
       "      <td>...</td>\n",
       "      <td>...</td>\n",
       "      <td>...</td>\n",
       "      <td>...</td>\n",
       "    </tr>\n",
       "    <tr>\n",
       "      <th>1195</th>\n",
       "      <td>115</td>\n",
       "      <td>90709</td>\n",
       "      <td>baseline</td>\n",
       "      <td>399.521017</td>\n",
       "      <td>Natalie</td>\n",
       "      <td>Newton</td>\n",
       "      <td>23</td>\n",
       "      <td>female</td>\n",
       "    </tr>\n",
       "    <tr>\n",
       "      <th>1196</th>\n",
       "      <td>116</td>\n",
       "      <td>90709</td>\n",
       "      <td>condition_b</td>\n",
       "      <td>174.347050</td>\n",
       "      <td>Natalie</td>\n",
       "      <td>Newton</td>\n",
       "      <td>23</td>\n",
       "      <td>female</td>\n",
       "    </tr>\n",
       "    <tr>\n",
       "      <th>1197</th>\n",
       "      <td>117</td>\n",
       "      <td>90709</td>\n",
       "      <td>baseline</td>\n",
       "      <td>160.265914</td>\n",
       "      <td>Natalie</td>\n",
       "      <td>Newton</td>\n",
       "      <td>23</td>\n",
       "      <td>female</td>\n",
       "    </tr>\n",
       "    <tr>\n",
       "      <th>1198</th>\n",
       "      <td>118</td>\n",
       "      <td>90709</td>\n",
       "      <td>baseline</td>\n",
       "      <td>357.141627</td>\n",
       "      <td>Natalie</td>\n",
       "      <td>Newton</td>\n",
       "      <td>23</td>\n",
       "      <td>female</td>\n",
       "    </tr>\n",
       "    <tr>\n",
       "      <th>1199</th>\n",
       "      <td>119</td>\n",
       "      <td>90709</td>\n",
       "      <td>condition_a</td>\n",
       "      <td>500.227344</td>\n",
       "      <td>Natalie</td>\n",
       "      <td>Newton</td>\n",
       "      <td>23</td>\n",
       "      <td>female</td>\n",
       "    </tr>\n",
       "  </tbody>\n",
       "</table>\n",
       "<p>1200 rows × 8 columns</p>\n",
       "</div>"
      ],
      "text/plain": [
       "      trial_order     id    condition          RT first_name last_name  age  \\\n",
       "0               0  83633  condition_a  711.093867      Stacy    Burton   33   \n",
       "1               1  83633     baseline  351.301881      Stacy    Burton   33   \n",
       "2               2  83633  condition_a  720.382681      Stacy    Burton   33   \n",
       "3               3  83633  condition_a  329.828212      Stacy    Burton   33   \n",
       "4               4  83633     baseline  188.586183      Stacy    Burton   33   \n",
       "...           ...    ...          ...         ...        ...       ...  ...   \n",
       "1195          115  90709     baseline  399.521017    Natalie    Newton   23   \n",
       "1196          116  90709  condition_b  174.347050    Natalie    Newton   23   \n",
       "1197          117  90709     baseline  160.265914    Natalie    Newton   23   \n",
       "1198          118  90709     baseline  357.141627    Natalie    Newton   23   \n",
       "1199          119  90709  condition_a  500.227344    Natalie    Newton   23   \n",
       "\n",
       "         sex  \n",
       "0       male  \n",
       "1       male  \n",
       "2       male  \n",
       "3       male  \n",
       "4       male  \n",
       "...      ...  \n",
       "1195  female  \n",
       "1196  female  \n",
       "1197  female  \n",
       "1198  female  \n",
       "1199  female  \n",
       "\n",
       "[1200 rows x 8 columns]"
      ]
     },
     "execution_count": 6,
     "metadata": {},
     "output_type": "execute_result"
    }
   ],
   "source": [
    "no_of_trials = np.shape(trials)[0]\n",
    "nan_indices = np.random.permutation(no_of_trials)[0:60]\n",
    "trials_NA = trials.copy()\n",
    "\n",
    "# replace values using pd.loc: function allows you to access a group of rows and columns by label(s)\n",
    "trials_NA.loc[nan_indices, 'RT'] = np.nan\n",
    "trials_NA"
   ]
  },
  {
   "cell_type": "markdown",
   "metadata": {},
   "source": [
    "### First exploration"
   ]
  },
  {
   "cell_type": "code",
   "execution_count": 7,
   "metadata": {},
   "outputs": [
    {
     "name": "stdout",
     "output_type": "stream",
     "text": [
      "     condition     mean_RT   median_RT      std_RT  mean_age\n",
      "0     baseline  481.484448  405.965007  283.582387      23.3\n",
      "1  condition_a  759.387950  634.627644  476.263170      23.3\n",
      "2  condition_b  452.634481  372.003101  301.176629      23.3\n"
     ]
    }
   ],
   "source": [
    "summary = trials.groupby(by='condition').aggregate(\n",
    "    mean_RT=pd.NamedAgg('RT', np.mean),\n",
    "    median_RT=pd.NamedAgg('RT', np.median),\n",
    "    std_RT=pd.NamedAgg('RT', np.std),\n",
    "    mean_age=pd.NamedAgg('age', np.mean)\n",
    ")\n",
    "\n",
    "# reset the index (we've seen this last week)\n",
    "summary.reset_index(inplace=True)\n",
    "print(summary)"
   ]
  },
  {
   "cell_type": "code",
   "execution_count": 8,
   "metadata": {},
   "outputs": [
    {
     "data": {
      "image/png": "[encoded data removed]",
      "text/plain": [
       "<Figure size 432x288 with 1 Axes>"
      ]
     },
     "metadata": {
      "needs_background": "light"
     },
     "output_type": "display_data"
    }
   ],
   "source": [
    "ax = sns.violinplot(x=\"condition\", y=\"RT\", data=trials)"
   ]
  },
  {
   "cell_type": "markdown",
   "metadata": {},
   "source": [
    "Good to know: using Pandas's groupby-function handles your NaN-values for you. However, if you just want to get some means..."
   ]
  },
  {
   "cell_type": "code",
   "execution_count": 9,
   "metadata": {},
   "outputs": [
    {
     "name": "stdout",
     "output_type": "stream",
     "text": [
      "nan 562.8246144535033\n"
     ]
    }
   ],
   "source": [
    "python_stats = statistics.mean(trials_NA[\"RT\"])\n",
    "numpy_stats = np.mean(trials_NA[\"RT\"])\n",
    "\n",
    "print(python_stats, numpy_stats)"
   ]
  },
  {
   "cell_type": "markdown",
   "metadata": {},
   "source": [
    "So if you want to use python_stats, you should remove your NaN-values. How to do this? Using Pandas dropna function."
   ]
  },
  {
   "cell_type": "code",
   "execution_count": 10,
   "metadata": {},
   "outputs": [],
   "source": [
    "trials_dropna = trials_NA.dropna()"
   ]
  },
  {
   "cell_type": "markdown",
   "metadata": {},
   "source": [
    "## 2. Testing assumptions"
   ]
  },
  {
   "cell_type": "markdown",
   "metadata": {},
   "source": [
    "### Assumptions to perform a t-test\n",
    "1. Scale of measurement: ordinal or continuous scale\n",
    "2. Simple random sample & reasonable sample size\n",
    "3. <b>Normal distribution</b> of means\n",
    "4. Homogeneity of variance"
   ]
  },
  {
   "cell_type": "markdown",
   "metadata": {},
   "source": [
    "### Normal distribution\n",
    "1. Gaphical methods: Plotting & evaluating"
   ]
  },
  {
   "cell_type": "code",
   "execution_count": 11,
   "metadata": {},
   "outputs": [
    {
     "data": {
      "text/plain": [
       "<seaborn.axisgrid.FacetGrid at 0x11ea9b50>"
      ]
     },
     "execution_count": 11,
     "metadata": {},
     "output_type": "execute_result"
    },
    {
     "data": {
      "image/png": "[encoded data removed]",
      "text/plain": [
       "<Figure size 453.5x360 with 1 Axes>"
      ]
     },
     "metadata": {
      "needs_background": "light"
     },
     "output_type": "display_data"
    }
   ],
   "source": [
    "# Use Seaborn for a simple histogram\n",
    "sns.displot(trials, x=\"RT\", hue=\"condition\")"
   ]
  },
  {
   "cell_type": "markdown",
   "metadata": {},
   "source": [
    "This is not a normal distribution; it is skewed and can be best described by an exponential. But wait - the <b>means</b> have to be normally distributed! "
   ]
  },
  {
   "cell_type": "code",
   "execution_count": 12,
   "metadata": {},
   "outputs": [
    {
     "name": "stdout",
     "output_type": "stream",
     "text": [
      "       id    condition      mean_RT      std_RT\n",
      "0   24639     baseline   523.639055  319.469700\n",
      "1   24639  condition_a   916.551797  545.207917\n",
      "2   24639  condition_b   460.798286  236.760201\n",
      "3   37321     baseline   424.567080  215.411905\n",
      "4   37321  condition_a   603.750397  270.696958\n",
      "5   37321  condition_b   388.912371  182.121480\n",
      "6   52845     baseline   413.013402  219.242907\n",
      "7   52845  condition_a   686.390174  452.023739\n",
      "8   52845  condition_b   437.927877  226.634697\n",
      "9   59785     baseline   472.227320  208.705638\n",
      "10  59785  condition_a   758.023053  329.912416\n",
      "11  59785  condition_b   434.643061  254.261131\n",
      "12  73722     baseline   428.556514  194.670902\n",
      "13  73722  condition_a   634.495483  438.848007\n",
      "14  73722  condition_b   355.593687  181.032672\n",
      "15  82441     baseline   408.739791  233.067667\n",
      "16  82441  condition_a   770.723383  315.030863\n",
      "17  82441  condition_b   415.092448  310.812162\n",
      "18  83312     baseline   414.506491  215.217321\n",
      "19  83312  condition_a   764.396811  578.571173\n",
      "20  83312  condition_b   414.136250  246.258639\n",
      "21  83633     baseline   469.035517  255.028892\n",
      "22  83633  condition_a   699.514884  359.026182\n",
      "23  83633  condition_b   423.976334  220.199621\n",
      "24  89186     baseline   883.297758  395.329876\n",
      "25  89186  condition_a  1202.471585  687.416899\n",
      "26  89186  condition_b   842.528173  509.158175\n",
      "27  90709     baseline   377.261552  151.528837\n",
      "28  90709  condition_a   557.561935  300.471900\n",
      "29  90709  condition_b   352.736322  201.535368\n"
     ]
    },
    {
     "data": {
      "image/png": "[encoded data removed]",
      "text/plain": [
       "<Figure size 453.5x360 with 1 Axes>"
      ]
     },
     "metadata": {
      "needs_background": "light"
     },
     "output_type": "display_data"
    }
   ],
   "source": [
    "pmeans = trials.groupby(by=['id', 'condition']).aggregate(\n",
    "    mean_RT=pd.NamedAgg('RT', np.mean),\n",
    "    std_RT=pd.NamedAgg('RT', np.std))\n",
    "\n",
    "pmeans.reset_index(inplace=True)\n",
    "print(pmeans)\n",
    "\n",
    "ax = sns.displot(pmeans, x=\"mean_RT\", hue=\"condition\", kde=False)"
   ]
  },
  {
   "cell_type": "markdown",
   "metadata": {},
   "source": [
    "OK, another plot. Let's try a QQplot with SciPy."
   ]
  },
  {
   "cell_type": "code",
   "execution_count": 13,
   "metadata": {},
   "outputs": [
    {
     "data": {
      "image/png": "[encoded data removed]",
      "text/plain": [
       "<Figure size 432x288 with 1 Axes>"
      ]
     },
     "metadata": {
      "needs_background": "light"
     },
     "output_type": "display_data"
    },
    {
     "data": {
      "image/png": "[encoded data removed]",
      "text/plain": [
       "<Figure size 432x288 with 1 Axes>"
      ]
     },
     "metadata": {
      "needs_background": "light"
     },
     "output_type": "display_data"
    },
    {
     "data": {
      "image/png": "[encoded data removed]",
      "text/plain": [
       "<Figure size 432x288 with 1 Axes>"
      ]
     },
     "metadata": {
      "needs_background": "light"
     },
     "output_type": "display_data"
    }
   ],
   "source": [
    "for cond in ['baseline', 'condition_a', 'condition_b']:\n",
    "    plot = stats.probplot(pmeans.loc[pmeans['condition']==cond, 'mean_RT'], plot=plt)\n",
    "    plt.title(str(cond))\n",
    "    plt.show()"
   ]
  },
  {
   "cell_type": "markdown",
   "metadata": {},
   "source": [
    "That looks better. Let's try a statistical test: the <b>Shapiro-Wilk test for normality</b>.\n",
    "\n",
    "We use scipy.stats for this.\n",
    "\n",
    "Important to keep in mind: The Shapiro-Wilk test (or another test, Kolmogorov-Smirnov) is too sensitive when sample sizes are large."
   ]
  },
  {
   "cell_type": "code",
   "execution_count": 14,
   "metadata": {},
   "outputs": [
    {
     "data": {
      "text/html": [
       "<div>\n",
       "<style scoped>\n",
       "    .dataframe tbody tr th:only-of-type {\n",
       "        vertical-align: middle;\n",
       "    }\n",
       "\n",
       "    .dataframe tbody tr th {\n",
       "        vertical-align: top;\n",
       "    }\n",
       "\n",
       "    .dataframe thead th {\n",
       "        text-align: right;\n",
       "    }\n",
       "</style>\n",
       "<table border=\"1\" class=\"dataframe\">\n",
       "  <thead>\n",
       "    <tr style=\"text-align: right;\">\n",
       "      <th></th>\n",
       "      <th>id</th>\n",
       "      <th>mean_RT</th>\n",
       "      <th>std_RT</th>\n",
       "    </tr>\n",
       "    <tr>\n",
       "      <th>condition</th>\n",
       "      <th></th>\n",
       "      <th></th>\n",
       "      <th></th>\n",
       "    </tr>\n",
       "  </thead>\n",
       "  <tbody>\n",
       "    <tr>\n",
       "      <th>baseline</th>\n",
       "      <td>(0.874459445476532, 0.11263599246740341)</td>\n",
       "      <td>(0.620363175868988, 9.681240771897137e-05)</td>\n",
       "      <td>(0.8636189103126526, 0.08417253196239471)</td>\n",
       "    </tr>\n",
       "    <tr>\n",
       "      <th>condition_a</th>\n",
       "      <td>(0.874459445476532, 0.11263599246740341)</td>\n",
       "      <td>(0.8505377173423767, 0.058951131999492645)</td>\n",
       "      <td>(0.9184719324111938, 0.3443862199783325)</td>\n",
       "    </tr>\n",
       "    <tr>\n",
       "      <th>condition_b</th>\n",
       "      <td>(0.874459445476532, 0.11263599246740341)</td>\n",
       "      <td>(0.6019946932792664, 5.8417375839781016e-05)</td>\n",
       "      <td>(0.7196709513664246, 0.0015260997461155057)</td>\n",
       "    </tr>\n",
       "  </tbody>\n",
       "</table>\n",
       "</div>"
      ],
      "text/plain": [
       "                                                   id  \\\n",
       "condition                                               \n",
       "baseline     (0.874459445476532, 0.11263599246740341)   \n",
       "condition_a  (0.874459445476532, 0.11263599246740341)   \n",
       "condition_b  (0.874459445476532, 0.11263599246740341)   \n",
       "\n",
       "                                                  mean_RT  \\\n",
       "condition                                                   \n",
       "baseline       (0.620363175868988, 9.681240771897137e-05)   \n",
       "condition_a    (0.8505377173423767, 0.058951131999492645)   \n",
       "condition_b  (0.6019946932792664, 5.8417375839781016e-05)   \n",
       "\n",
       "                                                  std_RT  \n",
       "condition                                                 \n",
       "baseline       (0.8636189103126526, 0.08417253196239471)  \n",
       "condition_a     (0.9184719324111938, 0.3443862199783325)  \n",
       "condition_b  (0.7196709513664246, 0.0015260997461155057)  "
      ]
     },
     "execution_count": 14,
     "metadata": {},
     "output_type": "execute_result"
    }
   ],
   "source": [
    "# Simple shapiro test:\n",
    "pmeans.groupby('condition').aggregate(stats.shapiro)"
   ]
  },
  {
   "cell_type": "code",
   "execution_count": 15,
   "metadata": {},
   "outputs": [
    {
     "data": {
      "text/html": [
       "<div>\n",
       "<style scoped>\n",
       "    .dataframe tbody tr th:only-of-type {\n",
       "        vertical-align: middle;\n",
       "    }\n",
       "\n",
       "    .dataframe tbody tr th {\n",
       "        vertical-align: top;\n",
       "    }\n",
       "\n",
       "    .dataframe thead th {\n",
       "        text-align: right;\n",
       "    }\n",
       "</style>\n",
       "<table border=\"1\" class=\"dataframe\">\n",
       "  <thead>\n",
       "    <tr style=\"text-align: right;\">\n",
       "      <th></th>\n",
       "      <th>condition</th>\n",
       "      <th>shapiro</th>\n",
       "    </tr>\n",
       "  </thead>\n",
       "  <tbody>\n",
       "    <tr>\n",
       "      <th>0</th>\n",
       "      <td>baseline</td>\n",
       "      <td>(0.620363175868988, 9.681240771897137e-05)</td>\n",
       "    </tr>\n",
       "    <tr>\n",
       "      <th>1</th>\n",
       "      <td>condition_a</td>\n",
       "      <td>(0.8505377173423767, 0.058951131999492645)</td>\n",
       "    </tr>\n",
       "    <tr>\n",
       "      <th>2</th>\n",
       "      <td>condition_b</td>\n",
       "      <td>(0.6019946932792664, 5.8417375839781016e-05)</td>\n",
       "    </tr>\n",
       "  </tbody>\n",
       "</table>\n",
       "</div>"
      ],
      "text/plain": [
       "     condition                                       shapiro\n",
       "0     baseline    (0.620363175868988, 9.681240771897137e-05)\n",
       "1  condition_a    (0.8505377173423767, 0.058951131999492645)\n",
       "2  condition_b  (0.6019946932792664, 5.8417375839781016e-05)"
      ]
     },
     "execution_count": 15,
     "metadata": {},
     "output_type": "execute_result"
    }
   ],
   "source": [
    "shapiro_results = pmeans.groupby(by='condition').aggregate(\n",
    "    shapiro=pd.NamedAgg('mean_RT',stats.shapiro))\n",
    "\n",
    "shapiro_results.reset_index(inplace=True)\n",
    "shapiro_results"
   ]
  },
  {
   "cell_type": "markdown",
   "metadata": {},
   "source": [
    "## 3. T-test with SciPy"
   ]
  },
  {
   "cell_type": "code",
   "execution_count": 16,
   "metadata": {},
   "outputs": [
    {
     "data": {
      "text/plain": [
       "Ttest_relResult(statistic=-10.9576963613722, pvalue=1.323983612406216e-24)"
      ]
     },
     "execution_count": 16,
     "metadata": {},
     "output_type": "execute_result"
    }
   ],
   "source": [
    "base = trials.loc[trials['condition']=='baseline', 'RT']\n",
    "a = trials.loc[trials['condition']=='condition_a', 'RT']\n",
    "\n",
    "stats.ttest_rel(base,a, nan_policy='raise')"
   ]
  },
  {
   "cell_type": "code",
   "execution_count": 17,
   "metadata": {},
   "outputs": [
    {
     "name": "stdout",
     "output_type": "stream",
     "text": [
      "Ttest_relResult(statistic=-10.9576963613722, pvalue=1.323983612406216e-24)\n",
      "Ttest_relResult(statistic=1.5860581787217045, pvalue=0.11351827606570147)\n"
     ]
    }
   ],
   "source": [
    "for cond in ['condition_a', 'condition_b']:\n",
    "    y = trials.loc[trials['condition']==cond, 'RT']\n",
    "    print(stats.ttest_rel(base, y, nan_policy='raise'))"
   ]
  },
  {
   "cell_type": "markdown",
   "metadata": {},
   "source": [
    "So both conditions are (very) different from the baseline. Now - do the conditions differ from each other?"
   ]
  },
  {
   "cell_type": "code",
   "execution_count": 18,
   "metadata": {},
   "outputs": [
    {
     "name": "stdout",
     "output_type": "stream",
     "text": [
      "Ttest_relResult(statistic=12.205167485188879, pvalue=2.4767918471336657e-29)\n"
     ]
    }
   ],
   "source": [
    "a = trials.loc[trials['condition']=='condition_a', 'RT']\n",
    "b = trials.loc[trials['condition']=='condition_b', 'RT']\n",
    "print(stats.ttest_rel(a, b, nan_policy='raise'))"
   ]
  },
  {
   "cell_type": "markdown",
   "metadata": {},
   "source": [
    "Of course, we should correct for multiple comparisons here. \n",
    "We can do this, but it would be better to use a repeated measures ANOVA.\n",
    "For this, we need the package <b>Statsmodels.</b>\n",
    "\n",
    "You have not installed this, so please run ```pip install statsmodels``` in  your terminal."
   ]
  },
  {
   "cell_type": "markdown",
   "metadata": {},
   "source": [
    "## 4. Anova and LMM using Statsmodels"
   ]
  },
  {
   "cell_type": "markdown",
   "metadata": {},
   "source": [
    "### Anova"
   ]
  },
  {
   "cell_type": "code",
   "execution_count": 19,
   "metadata": {},
   "outputs": [],
   "source": [
    "import statsmodels.api as sm\n",
    "from statsmodels.stats.anova import AnovaRM"
   ]
  },
  {
   "cell_type": "code",
   "execution_count": 20,
   "metadata": {},
   "outputs": [
    {
     "name": "stdout",
     "output_type": "stream",
     "text": [
      "                 Anova\n",
      "========================================\n",
      "          F Value  Num DF  Den DF Pr > F\n",
      "----------------------------------------\n",
      "condition 133.4263 2.0000 18.0000 0.0000\n",
      "========================================\n",
      "\n"
     ]
    }
   ],
   "source": [
    "aov = AnovaRM(\n",
    "    trials,\n",
    "    depvar='RT',\n",
    "    subject='id',\n",
    "    within=['condition'],\n",
    "    aggregate_func='mean'\n",
    ").fit()\n",
    "\n",
    "print(aov)"
   ]
  },
  {
   "cell_type": "markdown",
   "metadata": {},
   "source": [
    "### Linear Mixed Models"
   ]
  },
  {
   "cell_type": "markdown",
   "metadata": {},
   "source": [
    "* Formula to specify the model. Here: ```RT ~ condition```\n",
    "* Data for the model. Here: ```trials```\n",
    "* Re_formula: one-sided formula defining the variance structure of the model (Default = random intercept for each group). Here: 1\n",
    "* Groups: random intercept"
   ]
  },
  {
   "cell_type": "code",
   "execution_count": 21,
   "metadata": {},
   "outputs": [
    {
     "name": "stdout",
     "output_type": "stream",
     "text": [
      "                 Mixed Linear Model Regression Results\n",
      "========================================================================\n",
      "Model:                 MixedLM      Dependent Variable:      RT         \n",
      "No. Observations:      1200         Method:                  REML       \n",
      "No. Groups:            10           Scale:                   111885.7503\n",
      "Min. group size:       120          Log-Likelihood:          -8679.7654 \n",
      "Max. group size:       120          Converged:               Yes        \n",
      "Mean group size:       120.0                                            \n",
      "------------------------------------------------------------------------\n",
      "                           Coef.   Std.Err.   z    P>|z|  [0.025  0.975]\n",
      "------------------------------------------------------------------------\n",
      "Intercept                  481.484   50.806  9.477 0.000 381.906 581.063\n",
      "condition[T.condition_a]   277.904   23.652 11.750 0.000 231.546 324.261\n",
      "condition[T.condition_b]   -28.850   23.652 -1.220 0.223 -75.208  17.508\n",
      "id Var                   23015.503   33.879                             \n",
      "========================================================================\n",
      "\n"
     ]
    }
   ],
   "source": [
    "import statsmodels.formula.api as smf\n",
    "\n",
    "lmm0 = smf.mixedlm(\"RT ~ condition\", trials, groups = 'id', re_formula='1')\n",
    "lmm0f = lmm0.fit()\n",
    "print(lmm0f.summary())"
   ]
  },
  {
   "cell_type": "code",
   "execution_count": 22,
   "metadata": {},
   "outputs": [
    {
     "name": "stdout",
     "output_type": "stream",
     "text": [
      "                  Mixed Linear Model Regression Results\n",
      "==========================================================================\n",
      "Model:                   MixedLM      Dependent Variable:      RT         \n",
      "No. Observations:        1200         Method:                  REML       \n",
      "No. Groups:              10           Scale:                   111885.7429\n",
      "Min. group size:         120          Log-Likelihood:          -8676.3073 \n",
      "Max. group size:         120          Converged:               Yes        \n",
      "Mean group size:         120.0                                            \n",
      "--------------------------------------------------------------------------\n",
      "                           Coef.   Std.Err.   z    P>|z|  [0.025   0.975] \n",
      "--------------------------------------------------------------------------\n",
      "Intercept                  447.344  306.739  1.458 0.145 -153.852 1048.541\n",
      "condition[T.condition_a]   277.904   23.652 11.750 0.000  231.546  324.261\n",
      "condition[T.condition_b]   -28.850   23.652 -1.220 0.223  -75.208   17.508\n",
      "age                          1.465   12.962  0.113 0.910  -23.940   26.870\n",
      "id Var                   25966.388   40.345                               \n",
      "==========================================================================\n",
      "\n"
     ]
    }
   ],
   "source": [
    "lmm1 = smf.mixedlm(\"RT ~ condition + age\", trials, groups = 'id', re_formula='1')\n",
    "lmm1f = lmm1.fit()\n",
    "print(lmm1f.summary())"
   ]
  },
  {
   "cell_type": "code",
   "execution_count": 24,
   "metadata": {},
   "outputs": [
    {
     "name": "stdout",
     "output_type": "stream",
     "text": [
      "                    Mixed Linear Model Regression Results\n",
      "==============================================================================\n",
      "Model:                   MixedLM        Dependent Variable:        RT         \n",
      "No. Observations:        1200           Method:                    REML       \n",
      "No. Groups:              10             Scale:                     111960.8365\n",
      "Min. group size:         120            Log-Likelihood:            -8670.4574 \n",
      "Max. group size:         120            Converged:                 Yes        \n",
      "Mean group size:         120.0                                                \n",
      "------------------------------------------------------------------------------\n",
      "                               Coef.   Std.Err.   z    P>|z|  [0.025   0.975] \n",
      "------------------------------------------------------------------------------\n",
      "Intercept                      420.276  316.885  1.326 0.185 -200.807 1041.360\n",
      "condition[T.condition_a]       390.342  139.794  2.792 0.005  116.350  664.333\n",
      "condition[T.condition_b]       -60.085  139.794 -0.430 0.667 -334.076  213.907\n",
      "age                              2.627   13.404  0.196 0.845  -23.644   28.898\n",
      "condition[T.condition_a]:age    -4.826    5.913 -0.816 0.414  -16.415    6.764\n",
      "condition[T.condition_b]:age     1.341    5.913  0.227 0.821  -10.249   12.930\n",
      "id Var                       25965.749   40.332                               \n",
      "==============================================================================\n",
      "\n"
     ]
    }
   ],
   "source": [
    "lmm2 = smf.mixedlm(\"RT ~ condition + age + condition * age\", trials, groups = 'id', re_formula='1')\n",
    "lmm2f = lmm2.fit()\n",
    "print(lmm2f.summary())"
   ]
  },
  {
   "cell_type": "code",
   "execution_count": 23,
   "metadata": {},
   "outputs": [
    {
     "name": "stdout",
     "output_type": "stream",
     "text": [
      "                    Mixed Linear Model Regression Results\n",
      "==============================================================================\n",
      "Model:                   MixedLM        Dependent Variable:        RT         \n",
      "No. Observations:        1200           Method:                    REML       \n",
      "No. Groups:              10             Scale:                     111960.8365\n",
      "Min. group size:         120            Log-Likelihood:            -8670.4574 \n",
      "Max. group size:         120            Converged:                 Yes        \n",
      "Mean group size:         120.0                                                \n",
      "------------------------------------------------------------------------------\n",
      "                               Coef.   Std.Err.   z    P>|z|  [0.025   0.975] \n",
      "------------------------------------------------------------------------------\n",
      "Intercept                      420.276  316.885  1.326 0.185 -200.807 1041.360\n",
      "condition[T.condition_a]       390.342  139.794  2.792 0.005  116.350  664.333\n",
      "condition[T.condition_b]       -60.085  139.794 -0.430 0.667 -334.076  213.907\n",
      "age                              2.627   13.404  0.196 0.845  -23.644   28.898\n",
      "condition[T.condition_a]:age    -4.826    5.913 -0.816 0.414  -16.415    6.764\n",
      "condition[T.condition_b]:age     1.341    5.913  0.227 0.821  -10.249   12.930\n",
      "id Var                       25965.749   40.332                               \n",
      "==============================================================================\n",
      "\n"
     ]
    }
   ],
   "source": [
    "lmm3 = smf.mixedlm(\"RT ~ condition + condition * age\", trials, groups = 'id', re_formula='1')\n",
    "lmm3f = lmm3.fit()\n",
    "print(lmm3f.summary())"
   ]
  },
  {
   "cell_type": "markdown",
   "metadata": {},
   "source": [
    "That's all for today!\n",
    "\n",
    "# Homework\n",
    "Create an analysis-notebook for your experiment of choice.\n",
    "It should contain at least:\n",
    "* A table summarizing your data\n",
    "* A plot of your contrast of interest\n",
    "* A statistical test to determine its significance\n",
    "* Text boxes in markdown describing what you are doing.\n",
    "\n",
    "When you are done, create a GIT repository (with whichever name you like) and store in it:\n",
    "* The scripts you wrote for stimulus preparation\n",
    "* Your scripts for the experiment\n",
    "* Your data\n",
    "* The notebook for data analysis\n",
    "\n",
    "This has just become your <b>personal Python reference repository</b>.\n",
    "\n",
    "I will make a Slack channel where you can share repositories with each other."
   ]
  },
  {
   "cell_type": "code",
   "execution_count": null,
   "metadata": {},
   "outputs": [],
   "source": []
  }
 ],
 "metadata": {
  "kernelspec": {
   "display_name": "Python 3",
   "language": "python",
   "name": "python3"
  },
  "language_info": {
   "codemirror_mode": {
    "name": "ipython",
    "version": 3
   },
   "file_extension": ".py",
   "mimetype": "text/x-python",
   "name": "python",
   "nbconvert_exporter": "python",
   "pygments_lexer": "ipython3",
   "version": "3.8.5"
  }
 },
 "nbformat": 4,
 "nbformat_minor": 4
}
